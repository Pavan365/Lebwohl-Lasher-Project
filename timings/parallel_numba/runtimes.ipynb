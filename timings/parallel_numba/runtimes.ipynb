{
 "cells": [
  {
   "cell_type": "markdown",
   "metadata": {},
   "source": [
    "$\\textbf{Time Parallel Numba Version}$"
   ]
  },
  {
   "cell_type": "markdown",
   "metadata": {},
   "source": [
    "$\\textbf{Files Used}$ \n",
    "\n",
    "+ ```root/parallel_numba/lebwohl_lasher_p_numba.py```\n",
    "\n",
    "$\\textbf{Commit Version}$\n",
    "\n",
    "+ ```lebwohl_lasher_p_numba.py - af72b6245540a7e9f573edc001ea2010926c1847```"
   ]
  },
  {
   "cell_type": "code",
   "execution_count": 1,
   "metadata": {},
   "outputs": [],
   "source": [
    "# Import required libraries.\n",
    "import matplotlib.pyplot as plt\n",
    "import numpy as np\n",
    "import pandas as pd\n",
    "import time\n",
    "\n",
    "# Import the script.\n",
    "import lebwohl_lasher_p_numba"
   ]
  },
  {
   "cell_type": "markdown",
   "metadata": {},
   "source": [
    "$\\textbf{1. BC4 Runtimes}$\n",
    "\n",
    "+ $\\text{Lattice Sizes: 25 - 1000}$\n",
    "\n",
    "- $\\text{Monte Carlo Steps: 50}$\n",
    "- $\\text{Reduced Temperature: 0.5}$"
   ]
  },
  {
   "cell_type": "markdown",
   "metadata": {},
   "source": [
    "$\\textbf{1.1 Number of Threads - 1}$\n",
    "\n",
    "+ ```python ../statistics.py bc4_cores_01_runtimes parallel_numba runtimes_cores_01.csv```"
   ]
  },
  {
   "cell_type": "code",
   "execution_count": 2,
   "metadata": {},
   "outputs": [
    {
     "name": "stdout",
     "output_type": "stream",
     "text": [
      "|    |   Lattice-Size |   Runtime-Average |   Runtime-STD |\n",
      "|---:|---------------:|------------------:|--------------:|\n",
      "|  0 |             25 |         0.0210944 |   0.000235624 |\n",
      "|  1 |             50 |         0.065243  |   0.000278036 |\n",
      "|  2 |             75 |         0.140437  |   0.000329487 |\n",
      "|  3 |            100 |         0.241767  |   0.00150041  |\n",
      "|  4 |            200 |         0.950121  |   0.00351041  |\n",
      "|  5 |            300 |         2.15332   |   0.0117216   |\n",
      "|  6 |            400 |         3.79719   |   0.0131999   |\n",
      "|  7 |            500 |         6.00028   |   0.015827    |\n",
      "|  8 |            600 |         8.62079   |   0.00921609  |\n",
      "|  9 |            700 |        11.5511    |   0.190812    |\n",
      "| 10 |            800 |        15.0877    |   0.0277528   |\n",
      "| 11 |            900 |        17.2566    |   0.154451    |\n",
      "| 12 |           1000 |        21.5142    |   0.611199    |\n"
     ]
    }
   ],
   "source": [
    "# Read the runtimes into a DataFrame.\n",
    "runtimes_cores_01 = pd.read_csv(\"runtimes_cores_01.csv\")\n",
    "\n",
    "# Print the DataFrame.\n",
    "print(runtimes_cores_01.to_markdown())"
   ]
  },
  {
   "cell_type": "markdown",
   "metadata": {},
   "source": [
    "$\\textbf{1.2 Number of Threads - 2}$\n",
    "\n",
    "+ ```python ../statistics.py bc4_cores_02_runtimes parallel_numba runtimes_cores_02.csv```"
   ]
  },
  {
   "cell_type": "code",
   "execution_count": 3,
   "metadata": {},
   "outputs": [
    {
     "name": "stdout",
     "output_type": "stream",
     "text": [
      "|    |   Lattice-Size |   Runtime-Average |   Runtime-STD |\n",
      "|---:|---------------:|------------------:|--------------:|\n",
      "|  0 |             25 |         0.0165394 |   0.000237008 |\n",
      "|  1 |             50 |         0.0396975 |   0.000642676 |\n",
      "|  2 |             75 |         0.0784928 |   0.000568286 |\n",
      "|  3 |            100 |         0.130428  |   0.000757618 |\n",
      "|  4 |            200 |         0.491967  |   0.0025177   |\n",
      "|  5 |            300 |         1.09203   |   0.00164671  |\n",
      "|  6 |            400 |         1.93466   |   0.0113394   |\n",
      "|  7 |            500 |         3.00689   |   0.0013803   |\n",
      "|  8 |            600 |         4.3505    |   0.0261191   |\n",
      "|  9 |            700 |         5.93854   |   0.0160735   |\n",
      "| 10 |            800 |         7.9534    |   0.0341804   |\n",
      "| 11 |            900 |         9.78495   |   0.0732759   |\n",
      "| 12 |           1000 |        12.0236    |   0.0101501   |\n"
     ]
    }
   ],
   "source": [
    "# Read the runtimes into a DataFrame.\n",
    "runtimes_cores_02 = pd.read_csv(\"runtimes_cores_02.csv\")\n",
    "\n",
    "# Print the DataFrame.\n",
    "print(runtimes_cores_02.to_markdown())"
   ]
  },
  {
   "cell_type": "markdown",
   "metadata": {},
   "source": [
    "$\\textbf{1.3 Number of Threads - 4}$\n",
    "\n",
    "+ ```python ../statistics.py bc4_cores_04_runtimes parallel_numba runtimes_cores_04.csv```"
   ]
  },
  {
   "cell_type": "code",
   "execution_count": 4,
   "metadata": {},
   "outputs": [
    {
     "name": "stdout",
     "output_type": "stream",
     "text": [
      "|    |   Lattice-Size |   Runtime-Average |   Runtime-STD |\n",
      "|---:|---------------:|------------------:|--------------:|\n",
      "|  0 |             25 |         0.0153007 |   0.000242689 |\n",
      "|  1 |             50 |         0.0272407 |   0.000309732 |\n",
      "|  2 |             75 |         0.0462921 |   0.000125017 |\n",
      "|  3 |            100 |         0.0726584 |   0.000198315 |\n",
      "|  4 |            200 |         0.254211  |   0.000771957 |\n",
      "|  5 |            300 |         0.554611  |   0.00124753  |\n",
      "|  6 |            400 |         0.975253  |   0.00387304  |\n",
      "|  7 |            500 |         1.52321   |   0.0073835   |\n",
      "|  8 |            600 |         2.18959   |   0.00915692  |\n",
      "|  9 |            700 |         2.98847   |   0.00925464  |\n",
      "| 10 |            800 |         4.07118   |   0.012246    |\n",
      "| 11 |            900 |         5.13959   |   0.0139427   |\n",
      "| 12 |           1000 |         6.37855   |   0.0314489   |\n"
     ]
    }
   ],
   "source": [
    "# Read the runtimes into a DataFrame.\n",
    "runtimes_cores_04 = pd.read_csv(\"runtimes_cores_04.csv\")\n",
    "\n",
    "# Print the DataFrame.\n",
    "print(runtimes_cores_04.to_markdown())"
   ]
  },
  {
   "cell_type": "markdown",
   "metadata": {},
   "source": [
    "$\\textbf{1.4 Number of Threads - 8}$\n",
    "\n",
    "+ ```python ../statistics.py bc4_cores_08_runtimes parallel_numba runtimes_cores_08.csv```"
   ]
  },
  {
   "cell_type": "code",
   "execution_count": 5,
   "metadata": {},
   "outputs": [
    {
     "name": "stdout",
     "output_type": "stream",
     "text": [
      "|    |   Lattice-Size |   Runtime-Average |   Runtime-STD |\n",
      "|---:|---------------:|------------------:|--------------:|\n",
      "|  0 |             25 |         0.0158587 |   0.000768258 |\n",
      "|  1 |             50 |         0.022307  |   0.000291274 |\n",
      "|  2 |             75 |         0.0328295 |   0.000130709 |\n",
      "|  3 |            100 |         0.0464569 |   0.000157117 |\n",
      "|  4 |            200 |         0.138265  |   0.000356408 |\n",
      "|  5 |            300 |         0.294145  |   0.00124025  |\n",
      "|  6 |            400 |         0.503695  |   0.000394054 |\n",
      "|  7 |            500 |         0.783293  |   0.000965109 |\n",
      "|  8 |            600 |         1.11958   |   0.00297168  |\n",
      "|  9 |            700 |         1.52153   |   0.00567087  |\n",
      "| 10 |            800 |         2.07528   |   0.00862494  |\n",
      "| 11 |            900 |         2.63837   |   0.0095372   |\n",
      "| 12 |           1000 |         3.26663   |   0.0122565   |\n"
     ]
    }
   ],
   "source": [
    "# Read the runtimes into a DataFrame.\n",
    "runtimes_cores_08 = pd.read_csv(\"runtimes_cores_08.csv\")\n",
    "\n",
    "# Print the DataFrame.\n",
    "print(runtimes_cores_08.to_markdown())"
   ]
  },
  {
   "cell_type": "markdown",
   "metadata": {},
   "source": [
    "$\\textbf{1.5 Number of Threads - 12}$\n",
    "\n",
    "+ ```python ../statistics.py bc4_cores_12_runtimes parallel_numba runtimes_cores_12.csv```"
   ]
  },
  {
   "cell_type": "code",
   "execution_count": 6,
   "metadata": {},
   "outputs": [
    {
     "name": "stdout",
     "output_type": "stream",
     "text": [
      "|    |   Lattice-Size |   Runtime-Average |   Runtime-STD |\n",
      "|---:|---------------:|------------------:|--------------:|\n",
      "|  0 |             25 |         0.0177748 |   0.000277282 |\n",
      "|  1 |             50 |         0.0229858 |   0.00013205  |\n",
      "|  2 |             75 |         0.030945  |   0.000247392 |\n",
      "|  3 |            100 |         0.0404485 |   0.00019168  |\n",
      "|  4 |            200 |         0.103808  |   0.000255372 |\n",
      "|  5 |            300 |         0.20626   |   0.000297629 |\n",
      "|  6 |            400 |         0.354328  |   0.000312987 |\n",
      "|  7 |            500 |         0.540898  |   0.00308383  |\n",
      "|  8 |            600 |         0.761826  |   0.000380211 |\n",
      "|  9 |            700 |         1.04101   |   0.00408436  |\n",
      "| 10 |            800 |         1.46624   |   0.0129938   |\n",
      "| 11 |            900 |         1.85815   |   0.00880365  |\n",
      "| 12 |           1000 |         2.31866   |   0.0205177   |\n"
     ]
    }
   ],
   "source": [
    "# Read the runtimes into a DataFrame.\n",
    "runtimes_cores_12 = pd.read_csv(\"runtimes_cores_12.csv\")\n",
    "\n",
    "# Print the DataFrame.\n",
    "print(runtimes_cores_12.to_markdown())"
   ]
  },
  {
   "cell_type": "markdown",
   "metadata": {},
   "source": [
    "$\\textbf{1.6 Number of Threads - 16}$\n",
    "\n",
    "+ ```python ../statistics.py bc4_cores_16_runtimes parallel_numba runtimes_cores_16.csv```"
   ]
  },
  {
   "cell_type": "code",
   "execution_count": 7,
   "metadata": {},
   "outputs": [
    {
     "name": "stdout",
     "output_type": "stream",
     "text": [
      "|    |   Lattice-Size |   Runtime-Average |   Runtime-STD |\n",
      "|---:|---------------:|------------------:|--------------:|\n",
      "|  0 |             25 |         0.022423  |   0.000515484 |\n",
      "|  1 |             50 |         0.0280833 |   0.000414669 |\n",
      "|  2 |             75 |         0.036352  |   0.00163508  |\n",
      "|  3 |            100 |         0.0417575 |   0.000260719 |\n",
      "|  4 |            200 |         0.13244   |   0.0162093   |\n",
      "|  5 |            300 |         0.19921   |   0.0309256   |\n",
      "|  6 |            400 |         0.322957  |   0.0351726   |\n",
      "|  7 |            500 |         0.478756  |   0.0474427   |\n",
      "|  8 |            600 |         0.663751  |   0.0618688   |\n",
      "|  9 |            700 |         0.881058  |   0.119315    |\n",
      "| 10 |            800 |         1.18811   |   0.0184746   |\n",
      "| 11 |            900 |         1.84115   |   0.459468    |\n",
      "| 12 |           1000 |         2.00099   |   0.100681    |\n"
     ]
    }
   ],
   "source": [
    "# Read the runtimes into a DataFrame.\n",
    "runtimes_cores_16 = pd.read_csv(\"runtimes_cores_16.csv\")\n",
    "\n",
    "# Print the DataFrame.\n",
    "print(runtimes_cores_16.to_markdown())"
   ]
  },
  {
   "cell_type": "markdown",
   "metadata": {},
   "source": [
    "$\\textbf{1.6 Number of Threads - 28}$\n",
    "\n",
    "+ ```python ../statistics.py bc4_cores_28_runtimes parallel_numba runtimes_cores_28.csv```"
   ]
  },
  {
   "cell_type": "code",
   "execution_count": 8,
   "metadata": {},
   "outputs": [
    {
     "name": "stdout",
     "output_type": "stream",
     "text": [
      "|    |   Lattice-Size |   Runtime-Average |   Runtime-STD |\n",
      "|---:|---------------:|------------------:|--------------:|\n",
      "|  0 |             25 |         0.0408789 |   0.000365307 |\n",
      "|  1 |             50 |         0.045085  |   0.000528382 |\n",
      "|  2 |             75 |         0.0504254 |   0.000493635 |\n",
      "|  3 |            100 |         0.0574252 |   0.000634124 |\n",
      "|  4 |            200 |         0.0918489 |   0.000381454 |\n",
      "|  5 |            300 |         0.145292  |   0.00172832  |\n",
      "|  6 |            400 |         0.217387  |   0.00142293  |\n",
      "|  7 |            500 |         0.305511  |   0.00386879  |\n",
      "|  8 |            600 |         0.416494  |   0.00298326  |\n",
      "|  9 |            700 |         0.549413  |   0.008073    |\n",
      "| 10 |            800 |         0.795186  |   0.00570057  |\n",
      "| 11 |            900 |         0.995261  |   0.0210997   |\n",
      "| 12 |           1000 |         1.20709   |   0.0105488   |\n"
     ]
    }
   ],
   "source": [
    "# Read the runtimes into a DataFrame.\n",
    "runtimes_cores_28 = pd.read_csv(\"runtimes_cores_28.csv\")\n",
    "\n",
    "# Print the DataFrame.\n",
    "print(runtimes_cores_28.to_markdown())"
   ]
  },
  {
   "cell_type": "markdown",
   "metadata": {},
   "source": [
    "$\\textbf{1.8 Plot Runtimes}$"
   ]
  },
  {
   "cell_type": "code",
   "execution_count": 9,
   "metadata": {},
   "outputs": [
    {
     "data": {
      "image/png": "[encoded data removed]",
      "text/plain": [
       "<Figure size 640x480 with 1 Axes>"
      ]
     },
     "metadata": {},
     "output_type": "display_data"
    }
   ],
   "source": [
    "##  Plot the runtimes.\n",
    "\n",
    "fig, ax = plt.subplots()\n",
    "\n",
    "ax.errorbar(runtimes_cores_01[\"Lattice-Size\"], runtimes_cores_01[\"Runtime-Average\"], runtimes_cores_01[\"Runtime-STD\"], label=\"Cores 01\")\n",
    "ax.errorbar(runtimes_cores_02[\"Lattice-Size\"], runtimes_cores_02[\"Runtime-Average\"], runtimes_cores_02[\"Runtime-STD\"], label=\"Cores 02\")\n",
    "ax.errorbar(runtimes_cores_04[\"Lattice-Size\"], runtimes_cores_04[\"Runtime-Average\"], runtimes_cores_04[\"Runtime-STD\"], label=\"Cores 04\")\n",
    "ax.errorbar(runtimes_cores_08[\"Lattice-Size\"], runtimes_cores_08[\"Runtime-Average\"], runtimes_cores_08[\"Runtime-STD\"], label=\"Cores 08\")\n",
    "ax.errorbar(runtimes_cores_12[\"Lattice-Size\"], runtimes_cores_12[\"Runtime-Average\"], runtimes_cores_12[\"Runtime-STD\"], label=\"Cores 12\")\n",
    "ax.errorbar(runtimes_cores_16[\"Lattice-Size\"], runtimes_cores_16[\"Runtime-Average\"], runtimes_cores_16[\"Runtime-STD\"], label=\"Cores 16\")\n",
    "ax.errorbar(runtimes_cores_28[\"Lattice-Size\"], runtimes_cores_28[\"Runtime-Average\"], runtimes_cores_28[\"Runtime-STD\"], label=\"Cores 28\")\n",
    "\n",
    "ax.legend()\n",
    "ax.grid()\n",
    "\n",
    "ax.set_title(\"Parallel Numba Script\")\n",
    "ax.set_xlabel(\"Lattice Size\")\n",
    "ax.set_ylabel(\"Runtime (s)\")\n",
    "\n",
    "plt.show()"
   ]
  },
  {
   "cell_type": "markdown",
   "metadata": {},
   "source": [
    "$\\textbf{2. Time Specific Functions}$\n",
    "\n",
    "+ ```export NUMBA_NUM_THREADS=4```"
   ]
  },
  {
   "cell_type": "code",
   "execution_count": 10,
   "metadata": {},
   "outputs": [],
   "source": [
    "# Generate a lattice.\n",
    "lattice_length = 100\n",
    "lattice = np.random.random_sample((lattice_length, lattice_length)) * 2.0 * np.pi\n",
    "\n",
    "# Define the temperature.\n",
    "temperature = 0.5"
   ]
  },
  {
   "cell_type": "markdown",
   "metadata": {},
   "source": [
    "$\\textbf{2.1 Timed Function:}$ ```cell_energy```"
   ]
  },
  {
   "cell_type": "code",
   "execution_count": 11,
   "metadata": {},
   "outputs": [
    {
     "name": "stdout",
     "output_type": "stream",
     "text": [
      "Runtime Average : 9.60865012530121e-07\n",
      "Runtime STD     : 2.2331148737200376e-06\n"
     ]
    }
   ],
   "source": [
    "# Set the number of runs.\n",
    "num_runs = 1000\n",
    "\n",
    "# Create an array to store the results.\n",
    "results = np.zeros(num_runs)\n",
    "\n",
    "# Do a pre-run so numba can cache the compiled function.\n",
    "lebwohl_lasher_p_numba.cell_energy(lattice, lattice_length, 0, 0)\n",
    "\n",
    "# Time the \"cell_energy\" function.\n",
    "for i in range(num_runs):\n",
    "    # Generate two random positions.\n",
    "    x_pos, y_pos = np.random.randint(0, high=lattice_length, size=2)\n",
    "\n",
    "    # Start the timer.\n",
    "    start = time.perf_counter()\n",
    "\n",
    "    # Call the function.\n",
    "    lebwohl_lasher_p_numba.cell_energy(lattice, lattice_length, x_pos, y_pos)\n",
    "\n",
    "    # End the timer.\n",
    "    # Save the runtime.\n",
    "    end = time.perf_counter()\n",
    "    results[i] = end - start\n",
    "    \n",
    "# Print the average runtime.\n",
    "# Print the standard deviation.\n",
    "print(f\"Runtime Average : {results.mean()}\")\n",
    "print(f\"Runtime STD     : {results.std()}\")"
   ]
  },
  {
   "cell_type": "markdown",
   "metadata": {},
   "source": [
    "$\\textbf{2.2 Timed Function:}$ ```total_energy```"
   ]
  },
  {
   "cell_type": "code",
   "execution_count": 12,
   "metadata": {},
   "outputs": [
    {
     "name": "stdout",
     "output_type": "stream",
     "text": [
      "Runtime Average : 0.0002157610249978461\n",
      "Runtime STD     : 0.00036003055266336484\n"
     ]
    }
   ],
   "source": [
    "# Set the number of runs.\n",
    "num_runs = 1000\n",
    "\n",
    "# Create an array to store the results.\n",
    "results = np.zeros(num_runs)\n",
    "\n",
    "# Do a pre-run so numba can cache the compiled function.\n",
    "lebwohl_lasher_p_numba.total_energy(lattice, lattice_length)\n",
    "\n",
    "# Time the \"total_energy\" function.\n",
    "for i in range(num_runs):\n",
    "    # Start the timer.\n",
    "    start = time.perf_counter()\n",
    "\n",
    "    # Call the function.\n",
    "    lebwohl_lasher_p_numba.total_energy(lattice, lattice_length)\n",
    "\n",
    "    # End the timer.\n",
    "    # Save the runtime.\n",
    "    end = time.perf_counter()\n",
    "    results[i] = end - start\n",
    "    \n",
    "# Print the average runtime.\n",
    "# Print the standard deviation.\n",
    "print(f\"Runtime Average : {results.mean()}\")\n",
    "print(f\"Runtime STD     : {results.std()}\")"
   ]
  },
  {
   "cell_type": "markdown",
   "metadata": {},
   "source": [
    "$\\textbf{2.3 Timed Function:}$ ```calculate_order```"
   ]
  },
  {
   "cell_type": "code",
   "execution_count": 13,
   "metadata": {},
   "outputs": [
    {
     "name": "stdout",
     "output_type": "stream",
     "text": [
      "Runtime Average : 0.00011167655795361497\n",
      "Runtime STD     : 0.00041411402670736493\n"
     ]
    }
   ],
   "source": [
    "# Set the number of runs.\n",
    "num_runs = 1000\n",
    "\n",
    "# Create an array to store the results.\n",
    "results = np.zeros(num_runs)\n",
    "\n",
    "# Do a pre-run so numba can cache the compiled function.\n",
    "lebwohl_lasher_p_numba.calculate_order(lattice, lattice_length)\n",
    "\n",
    "# Time the \"calculate_order\" function.\n",
    "for i in range(num_runs):\n",
    "    # Start the timer.\n",
    "    start = time.perf_counter()\n",
    "\n",
    "    # Call the function.\n",
    "    lebwohl_lasher_p_numba.calculate_order(lattice, lattice_length)\n",
    "\n",
    "    # End the timer.\n",
    "    # Save the runtime.\n",
    "    end = time.perf_counter()\n",
    "    results[i] = end - start\n",
    "    \n",
    "# Print the average runtime.\n",
    "# Print the standard deviation.\n",
    "print(f\"Runtime Average : {results.mean()}\")\n",
    "print(f\"Runtime STD     : {results.std()}\")"
   ]
  },
  {
   "cell_type": "markdown",
   "metadata": {},
   "source": [
    "$\\textbf{2.4 Timed Function:}$ ```monte_carlo_step```"
   ]
  },
  {
   "cell_type": "code",
   "execution_count": 14,
   "metadata": {},
   "outputs": [
    {
     "name": "stdout",
     "output_type": "stream",
     "text": [
      "Runtime Average : 0.0015348028720000002\n",
      "Runtime STD     : 0.0038655142540110258\n"
     ]
    }
   ],
   "source": [
    "# Set the number of runs.\n",
    "num_runs = 1000\n",
    "\n",
    "# Create an array to store the results.\n",
    "results = np.zeros(num_runs)\n",
    "\n",
    "# Do a pre-run so numba can cache the compiled function.\n",
    "lebwohl_lasher_p_numba.monte_carlo_step(lattice, lattice_length, temperature)\n",
    "\n",
    "# Time the \"monte_carlo_step\" function.\n",
    "for i in range(num_runs):\n",
    "    # Start the timer.\n",
    "    start = time.perf_counter()\n",
    "\n",
    "    # Call the function.\n",
    "    lebwohl_lasher_p_numba.monte_carlo_step(lattice, lattice_length, temperature)\n",
    "\n",
    "    # End the timer.\n",
    "    # Save the runtime.\n",
    "    end = time.perf_counter()\n",
    "    results[i] = end - start\n",
    "    \n",
    "# Print the average runtime.\n",
    "# Print the standard deviation.\n",
    "print(f\"Runtime Average : {results.mean()}\")\n",
    "print(f\"Runtime STD     : {results.std()}\")"
   ]
  },
  {
   "cell_type": "code",
   "execution_count": null,
   "metadata": {},
   "outputs": [],
   "source": []
  }
 ],
 "metadata": {
  "kernelspec": {
   "display_name": "lebwohl-lasher",
   "language": "python",
   "name": "python3"
  },
  "language_info": {
   "codemirror_mode": {
    "name": "ipython",
    "version": 3
   },
   "file_extension": ".py",
   "mimetype": "text/x-python",
   "name": "python",
   "nbconvert_exporter": "python",
   "pygments_lexer": "ipython3",
   "version": "3.12.2"
  }
 },
 "nbformat": 4,
 "nbformat_minor": 2
}
