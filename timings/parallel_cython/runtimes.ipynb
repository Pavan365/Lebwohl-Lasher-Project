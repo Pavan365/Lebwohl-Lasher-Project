{
 "cells": [
  {
   "cell_type": "markdown",
   "metadata": {},
   "source": [
    "$\\textbf{Time Parallel Cython Version}$"
   ]
  },
  {
   "cell_type": "markdown",
   "metadata": {},
   "source": [
    "$\\textbf{Files Used}$ \n",
    "\n",
    "+ ```root/parallel_cython/lebwohl_lasher_p_cython.pyx```\n",
    "+ ```root/parallel_cython/run_lebwohl_lasher_p_cython.py```\n",
    "+ ```root/parallel_cython/setup_lebwohl_lasher_p_cython.py```\n",
    "\n",
    "$\\textbf{Commit Version}$\n",
    "\n",
    "+ ```lebwohl_lasher_p_cython.pyx - f7d52dbf16c108f0b1ffb686c9e19644e819a156```\n",
    "+ ```run_lebwohl_lasher_p_cython.py - 21ad27ad22d04ad7ed01aea9d3cb6b2871712823```\n",
    "+ ```setup_lebwohl_lasher_p_cython.py - 73b14f64eb4278e84eb65abce9aec72bdad5a844```"
   ]
  },
  {
   "cell_type": "code",
   "execution_count": 1,
   "metadata": {},
   "outputs": [],
   "source": [
    "# Import required libraries.\n",
    "import matplotlib.pyplot as plt\n",
    "import numpy as np\n",
    "import pandas as pd\n",
    "import time\n",
    "\n",
    "# Import the script.\n",
    "import lebwohl_lasher_p_cython"
   ]
  },
  {
   "cell_type": "markdown",
   "metadata": {},
   "source": [
    "$\\textbf{1. BC4 Runtimes}$\n",
    "\n",
    "+ $\\text{Lattice Sizes: 25 - 1000}$\n",
    "\n",
    "- $\\text{Monte Carlo Steps: 50}$\n",
    "- $\\text{Reduced Temperature: 0.5}$"
   ]
  },
  {
   "cell_type": "markdown",
   "metadata": {},
   "source": [
    "$\\textbf{1.1 Number of Threads - 1}$\n",
    "\n",
    "+ ```python ../statistics.py bc4_cores_01_runtimes parallel_cython runtimes_cores_01.csv```"
   ]
  },
  {
   "cell_type": "code",
   "execution_count": 2,
   "metadata": {},
   "outputs": [
    {
     "name": "stdout",
     "output_type": "stream",
     "text": [
      "|    |   Lattice-Size |   Runtime-Average |   Runtime-STD |\n",
      "|---:|---------------:|------------------:|--------------:|\n",
      "|  0 |             25 |         0.0180866 |   0.000224926 |\n",
      "|  1 |             50 |         0.0638645 |   0.00114012  |\n",
      "|  2 |             75 |         0.138538  |   0.00291513  |\n",
      "|  3 |            100 |         0.248521  |   0.00397811  |\n",
      "|  4 |            200 |         0.992387  |   0.00617989  |\n",
      "|  5 |            300 |         2.23255   |   0.00699665  |\n",
      "|  6 |            400 |         3.94404   |   0.0109694   |\n",
      "|  7 |            500 |         6.18574   |   0.0558189   |\n",
      "|  8 |            600 |         8.64663   |   0.144946    |\n",
      "|  9 |            700 |        11.6473    |   0.0194591   |\n",
      "| 10 |            800 |        15.2477    |   0.0211245   |\n",
      "| 11 |            900 |        18.3385    |   0.281123    |\n",
      "| 12 |           1000 |        22.4285    |   0.0794942   |\n"
     ]
    }
   ],
   "source": [
    "# Read the runtimes into a DataFrame.\n",
    "runtimes_cores_01 = pd.read_csv(\"runtimes_cores_01.csv\")\n",
    "\n",
    "# Print the DataFrame.\n",
    "print(runtimes_cores_01.to_markdown())"
   ]
  },
  {
   "cell_type": "markdown",
   "metadata": {},
   "source": [
    "$\\textbf{1.2 Number of Threads - 2}$\n",
    "\n",
    "+ ```python ../statistics.py bc4_cores_02_runtimes parallel_cython runtimes_cores_02.csv```"
   ]
  },
  {
   "cell_type": "code",
   "execution_count": 3,
   "metadata": {},
   "outputs": [
    {
     "name": "stdout",
     "output_type": "stream",
     "text": [
      "|    |   Lattice-Size |   Runtime-Average |   Runtime-STD |\n",
      "|---:|---------------:|------------------:|--------------:|\n",
      "|  0 |             25 |         0.0121866 |   0.000371052 |\n",
      "|  1 |             50 |         0.0383861 |   0.000452129 |\n",
      "|  2 |             75 |         0.0815679 |   0.00116254  |\n",
      "|  3 |            100 |         0.138038  |   0.00284337  |\n",
      "|  4 |            200 |         0.545436  |   0.00238071  |\n",
      "|  5 |            300 |         1.22718   |   0.00465039  |\n",
      "|  6 |            400 |         2.15967   |   0.00275168  |\n",
      "|  7 |            500 |         3.35736   |   0.00685915  |\n",
      "|  8 |            600 |         4.84763   |   0.0380343   |\n",
      "|  9 |            700 |         6.47883   |   0.118762    |\n",
      "| 10 |            800 |         8.31613   |   0.0870169   |\n",
      "| 11 |            900 |        10.5016    |   0.0270444   |\n",
      "| 12 |           1000 |        13.0122    |   0.0917232   |\n"
     ]
    }
   ],
   "source": [
    "# Read the runtimes into a DataFrame.\n",
    "runtimes_cores_02 = pd.read_csv(\"runtimes_cores_02.csv\")\n",
    "\n",
    "# Print the DataFrame.\n",
    "print(runtimes_cores_02.to_markdown())"
   ]
  },
  {
   "cell_type": "markdown",
   "metadata": {},
   "source": [
    "$\\textbf{1.3 Number of Threads - 4}$\n",
    "\n",
    "+ ```python ../statistics.py bc4_cores_04_runtimes parallel_cython runtimes_cores_04.csv```"
   ]
  },
  {
   "cell_type": "code",
   "execution_count": 4,
   "metadata": {},
   "outputs": [
    {
     "name": "stdout",
     "output_type": "stream",
     "text": [
      "|    |   Lattice-Size |   Runtime-Average |   Runtime-STD |\n",
      "|---:|---------------:|------------------:|--------------:|\n",
      "|  0 |             25 |         0.0121236 |   0.00108308  |\n",
      "|  1 |             50 |         0.0276461 |   5.22778e-05 |\n",
      "|  2 |             75 |         0.0531638 |   0.000802421 |\n",
      "|  3 |            100 |         0.0891016 |   0.00163261  |\n",
      "|  4 |            200 |         0.340378  |   0.00458689  |\n",
      "|  5 |            300 |         0.735698  |   0.00270273  |\n",
      "|  6 |            400 |         1.29652   |   0.00427047  |\n",
      "|  7 |            500 |         2.02824   |   0.012161    |\n",
      "|  8 |            600 |         2.89826   |   0.014836    |\n",
      "|  9 |            700 |         3.92973   |   0.00925241  |\n",
      "| 10 |            800 |         5.2085    |   0.0927918   |\n",
      "| 11 |            900 |         6.40433   |   0.17284     |\n",
      "| 12 |           1000 |         7.62291   |   0.0458996   |\n"
     ]
    }
   ],
   "source": [
    "# Read the runtimes into a DataFrame.\n",
    "runtimes_cores_04 = pd.read_csv(\"runtimes_cores_04.csv\")\n",
    "\n",
    "# Print the DataFrame.\n",
    "print(runtimes_cores_04.to_markdown())"
   ]
  },
  {
   "cell_type": "markdown",
   "metadata": {},
   "source": [
    "$\\textbf{1.4 Number of Threads - 8}$\n",
    "\n",
    "+ ```python ../statistics.py bc4_cores_08_runtimes parallel_cython runtimes_cores_08.csv```"
   ]
  },
  {
   "cell_type": "code",
   "execution_count": 5,
   "metadata": {},
   "outputs": [
    {
     "name": "stdout",
     "output_type": "stream",
     "text": [
      "|    |   Lattice-Size |   Runtime-Average |   Runtime-STD |\n",
      "|---:|---------------:|------------------:|--------------:|\n",
      "|  0 |             25 |         0.015126  |   0.000108424 |\n",
      "|  1 |             50 |         0.0255116 |   6.93031e-05 |\n",
      "|  2 |             75 |         0.0435715 |   0.00177908  |\n",
      "|  3 |            100 |         0.0664858 |   0.00165009  |\n",
      "|  4 |            200 |         0.23162   |   0.0212574   |\n",
      "|  5 |            300 |         0.490263  |   0.00681896  |\n",
      "|  6 |            400 |         0.845257  |   0.00807045  |\n",
      "|  7 |            500 |         1.29978   |   0.00301695  |\n",
      "|  8 |            600 |         1.85253   |   0.00365185  |\n",
      "|  9 |            700 |         2.53399   |   0.00553853  |\n",
      "| 10 |            800 |         3.29088   |   0.0101983   |\n",
      "| 11 |            900 |         4.19063   |   0.0124189   |\n",
      "| 12 |           1000 |         5.15721   |   0.0303969   |\n"
     ]
    }
   ],
   "source": [
    "# Read the runtimes into a DataFrame.\n",
    "runtimes_cores_08 = pd.read_csv(\"runtimes_cores_08.csv\")\n",
    "\n",
    "# Print the DataFrame.\n",
    "print(runtimes_cores_08.to_markdown())"
   ]
  },
  {
   "cell_type": "markdown",
   "metadata": {},
   "source": [
    "$\\textbf{1.5 Number of Threads - 12}$\n",
    "\n",
    "+ ```python ../statistics.py bc4_cores_12_runtimes parallel_cython runtimes_cores_12.csv```"
   ]
  },
  {
   "cell_type": "code",
   "execution_count": 6,
   "metadata": {},
   "outputs": [
    {
     "name": "stdout",
     "output_type": "stream",
     "text": [
      "|    |   Lattice-Size |   Runtime-Average |   Runtime-STD |\n",
      "|---:|---------------:|------------------:|--------------:|\n",
      "|  0 |             25 |         0.0251143 |   0.00312649  |\n",
      "|  1 |             50 |         0.0330073 |   0.00105493  |\n",
      "|  2 |             75 |         0.0459343 |   0.000397654 |\n",
      "|  3 |            100 |         0.0844404 |   0.0250904   |\n",
      "|  4 |            200 |         0.197356  |   0.00990236  |\n",
      "|  5 |            300 |         0.428149  |   0.0403847   |\n",
      "|  6 |            400 |         0.734199  |   0.0525897   |\n",
      "|  7 |            500 |         1.15129   |   0.0373494   |\n",
      "|  8 |            600 |         1.60046   |   0.0195791   |\n",
      "|  9 |            700 |         2.1365    |   0.0325491   |\n",
      "| 10 |            800 |         2.80832   |   0.0574428   |\n",
      "| 11 |            900 |         3.50973   |   0.0574798   |\n",
      "| 12 |           1000 |         4.33685   |   0.0953421   |\n"
     ]
    }
   ],
   "source": [
    "# Read the runtimes into a DataFrame.\n",
    "runtimes_cores_12 = pd.read_csv(\"runtimes_cores_12.csv\")\n",
    "\n",
    "# Print the DataFrame.\n",
    "print(runtimes_cores_12.to_markdown())"
   ]
  },
  {
   "cell_type": "markdown",
   "metadata": {},
   "source": [
    "$\\textbf{1.6 Number of Threads - 16}$\n",
    "\n",
    "+ ```python ../statistics.py bc4_cores_16_runtimes parallel_cython runtimes_cores_16.csv```"
   ]
  },
  {
   "cell_type": "code",
   "execution_count": 7,
   "metadata": {},
   "outputs": [
    {
     "name": "stdout",
     "output_type": "stream",
     "text": [
      "|    |   Lattice-Size |   Runtime-Average |   Runtime-STD |\n",
      "|---:|---------------:|------------------:|--------------:|\n",
      "|  0 |             25 |         0.0290185 |   0.000399082 |\n",
      "|  1 |             50 |         0.0368441 |   0.000359465 |\n",
      "|  2 |             75 |         0.0503291 |   0.0022258   |\n",
      "|  3 |            100 |         0.0665778 |   0.000772523 |\n",
      "|  4 |            200 |         0.187597  |   0.00777312  |\n",
      "|  5 |            300 |         0.379227  |   0.0072305   |\n",
      "|  6 |            400 |         0.632415  |   0.0113585   |\n",
      "|  7 |            500 |         0.963085  |   0.00758653  |\n",
      "|  8 |            600 |         1.35697   |   0.0178623   |\n",
      "|  9 |            700 |         1.7893    |   0.0118611   |\n",
      "| 10 |            800 |         2.33208   |   0.0434133   |\n",
      "| 11 |            900 |         3.04136   |   0.112414    |\n",
      "| 12 |           1000 |         3.70883   |   0.143673    |\n"
     ]
    }
   ],
   "source": [
    "# Read the runtimes into a DataFrame.\n",
    "runtimes_cores_16 = pd.read_csv(\"runtimes_cores_16.csv\")\n",
    "\n",
    "# Print the DataFrame.\n",
    "print(runtimes_cores_16.to_markdown())"
   ]
  },
  {
   "cell_type": "markdown",
   "metadata": {},
   "source": [
    "$\\textbf{1.6 Number of Threads - 28}$\n",
    "\n",
    "+ ```python ../statistics.py bc4_cores_28_runtimes parallel_cython runtimes_cores_28.csv```"
   ]
  },
  {
   "cell_type": "code",
   "execution_count": 8,
   "metadata": {},
   "outputs": [
    {
     "name": "stdout",
     "output_type": "stream",
     "text": [
      "|    |   Lattice-Size |   Runtime-Average |   Runtime-STD |\n",
      "|---:|---------------:|------------------:|--------------:|\n",
      "|  0 |             25 |         0.0687774 |   0.0112806   |\n",
      "|  1 |             50 |         0.0729736 |   0.00353134  |\n",
      "|  2 |             75 |         0.0803302 |   0.000825677 |\n",
      "|  3 |            100 |         0.119195  |   0.0184698   |\n",
      "|  4 |            200 |         0.20037   |   0.0110577   |\n",
      "|  5 |            300 |         0.364179  |   0.00728881  |\n",
      "|  6 |            400 |         0.565334  |   0.00866426  |\n",
      "|  7 |            500 |         0.818028  |   0.00785953  |\n",
      "|  8 |            600 |         1.14596   |   0.00705733  |\n",
      "|  9 |            700 |         1.5128    |   0.0143319   |\n",
      "| 10 |            800 |         1.95957   |   0.0169862   |\n",
      "| 11 |            900 |         2.45579   |   0.00715611  |\n",
      "| 12 |           1000 |         3.09616   |   0.162434    |\n"
     ]
    }
   ],
   "source": [
    "# Read the runtimes into a DataFrame.\n",
    "runtimes_cores_28 = pd.read_csv(\"runtimes_cores_28.csv\")\n",
    "\n",
    "# Print the DataFrame.\n",
    "print(runtimes_cores_28.to_markdown())"
   ]
  },
  {
   "cell_type": "markdown",
   "metadata": {},
   "source": [
    "$\\textbf{1.8 Plot Runtimes}$"
   ]
  },
  {
   "cell_type": "code",
   "execution_count": 9,
   "metadata": {},
   "outputs": [
    {
     "data": {
      "image/png": "[encoded data removed]",
      "text/plain": [
       "<Figure size 640x480 with 1 Axes>"
      ]
     },
     "metadata": {},
     "output_type": "display_data"
    }
   ],
   "source": [
    "##  Plot the runtimes.\n",
    "\n",
    "fig, ax = plt.subplots()\n",
    "\n",
    "ax.errorbar(runtimes_cores_01[\"Lattice-Size\"], runtimes_cores_01[\"Runtime-Average\"], runtimes_cores_01[\"Runtime-STD\"], label=\"Cores 01\")\n",
    "ax.errorbar(runtimes_cores_02[\"Lattice-Size\"], runtimes_cores_02[\"Runtime-Average\"], runtimes_cores_02[\"Runtime-STD\"], label=\"Cores 02\")\n",
    "ax.errorbar(runtimes_cores_04[\"Lattice-Size\"], runtimes_cores_04[\"Runtime-Average\"], runtimes_cores_04[\"Runtime-STD\"], label=\"Cores 04\")\n",
    "ax.errorbar(runtimes_cores_08[\"Lattice-Size\"], runtimes_cores_08[\"Runtime-Average\"], runtimes_cores_08[\"Runtime-STD\"], label=\"Cores 08\")\n",
    "ax.errorbar(runtimes_cores_12[\"Lattice-Size\"], runtimes_cores_12[\"Runtime-Average\"], runtimes_cores_12[\"Runtime-STD\"], label=\"Cores 12\")\n",
    "ax.errorbar(runtimes_cores_16[\"Lattice-Size\"], runtimes_cores_16[\"Runtime-Average\"], runtimes_cores_16[\"Runtime-STD\"], label=\"Cores 16\")\n",
    "ax.errorbar(runtimes_cores_28[\"Lattice-Size\"], runtimes_cores_28[\"Runtime-Average\"], runtimes_cores_28[\"Runtime-STD\"], label=\"Cores 28\")\n",
    "\n",
    "ax.legend()\n",
    "ax.grid()\n",
    "\n",
    "ax.set_title(\"Parallel Cython Script\")\n",
    "ax.set_xlabel(\"Lattice Size\")\n",
    "ax.set_ylabel(\"Runtime (s)\")\n",
    "\n",
    "plt.show()"
   ]
  },
  {
   "cell_type": "markdown",
   "metadata": {},
   "source": [
    "$\\textbf{2. Time Specific Functions}$\n",
    "\n",
    "+ ```export OMP_NUM_THREADS=4```"
   ]
  },
  {
   "cell_type": "code",
   "execution_count": 10,
   "metadata": {},
   "outputs": [],
   "source": [
    "# Generate a lattice.\n",
    "lattice_length = 100\n",
    "lattice = np.random.random_sample((lattice_length, lattice_length)) * 2.0 * np.pi\n",
    "\n",
    "# Define the temperature.\n",
    "temperature = 0.5"
   ]
  },
  {
   "cell_type": "markdown",
   "metadata": {},
   "source": [
    "$\\textbf{2.1 Timed Function:}$ ```cell_energy```"
   ]
  },
  {
   "cell_type": "code",
   "execution_count": 11,
   "metadata": {},
   "outputs": [
    {
     "name": "stdout",
     "output_type": "stream",
     "text": [
      "Runtime Average : 1.6554280191485304e-06\n",
      "Runtime STD     : 2.6661986685911644e-06\n"
     ]
    }
   ],
   "source": [
    "# Set the number of runs.\n",
    "num_runs = 1000\n",
    "\n",
    "# Create an array to store the results.\n",
    "results = np.zeros(num_runs)\n",
    "\n",
    "# Time the \"cell_energy\" function.\n",
    "for i in range(num_runs):\n",
    "    # Generate two random positions.\n",
    "    x_pos, y_pos = np.random.randint(0, high=lattice_length, size=2)\n",
    "\n",
    "    # Start the timer.\n",
    "    start = time.perf_counter()\n",
    "\n",
    "    # Call the function.\n",
    "    lebwohl_lasher_p_cython.cell_energy(lattice, lattice_length, x_pos, y_pos)\n",
    "\n",
    "    # End the timer.\n",
    "    # Save the runtime.\n",
    "    end = time.perf_counter()\n",
    "    results[i] = end - start\n",
    "    \n",
    "# Print the average runtime.\n",
    "# Print the standard deviation.\n",
    "print(f\"Runtime Average : {results.mean()}\")\n",
    "print(f\"Runtime STD     : {results.std()}\")"
   ]
  },
  {
   "cell_type": "markdown",
   "metadata": {},
   "source": [
    "$\\textbf{2.2 Timed Function:}$ ```total_energy```"
   ]
  },
  {
   "cell_type": "code",
   "execution_count": 12,
   "metadata": {},
   "outputs": [
    {
     "name": "stdout",
     "output_type": "stream",
     "text": [
      "Runtime Average : 0.0008592955460026133\n",
      "Runtime STD     : 0.0018201070336430303\n"
     ]
    }
   ],
   "source": [
    "# Set the number of runs.\n",
    "num_runs = 1000\n",
    "\n",
    "# Create an array to store the results.\n",
    "results = np.zeros(num_runs)\n",
    "\n",
    "# Time the \"total_energy\" function.\n",
    "for i in range(num_runs):\n",
    "    # Start the timer.\n",
    "    start = time.perf_counter()\n",
    "\n",
    "    # Call the function.\n",
    "    lebwohl_lasher_p_cython.total_energy(lattice, lattice_length)\n",
    "\n",
    "    # End the timer.\n",
    "    # Save the runtime.\n",
    "    end = time.perf_counter()\n",
    "    results[i] = end - start\n",
    "    \n",
    "# Print the average runtime.\n",
    "# Print the standard deviation.\n",
    "print(f\"Runtime Average : {results.mean()}\")\n",
    "print(f\"Runtime STD     : {results.std()}\")"
   ]
  },
  {
   "cell_type": "markdown",
   "metadata": {},
   "source": [
    "$\\textbf{2.3 Timed Function:}$ ```calculate_order```"
   ]
  },
  {
   "cell_type": "code",
   "execution_count": 13,
   "metadata": {},
   "outputs": [
    {
     "name": "stdout",
     "output_type": "stream",
     "text": [
      "Runtime Average : 0.00014199846899100522\n",
      "Runtime STD     : 0.0006848962135557714\n"
     ]
    }
   ],
   "source": [
    "# Set the number of runs.\n",
    "num_runs = 1000\n",
    "\n",
    "# Create an array to store the results.\n",
    "results = np.zeros(num_runs)\n",
    "\n",
    "# Time the \"calculate_order\" function.\n",
    "for i in range(num_runs):\n",
    "    # Start the timer.\n",
    "    start = time.perf_counter()\n",
    "\n",
    "    # Call the function.\n",
    "    lebwohl_lasher_p_cython.calculate_order(lattice, lattice_length)\n",
    "\n",
    "    # End the timer.\n",
    "    # Save the runtime.\n",
    "    end = time.perf_counter()\n",
    "    results[i] = end - start\n",
    "    \n",
    "# Print the average runtime.\n",
    "# Print the standard deviation.\n",
    "print(f\"Runtime Average : {results.mean()}\")\n",
    "print(f\"Runtime STD     : {results.std()}\")"
   ]
  },
  {
   "cell_type": "markdown",
   "metadata": {},
   "source": [
    "$\\textbf{2.4 Timed Function:}$ ```monte_carlo_step```"
   ]
  },
  {
   "cell_type": "code",
   "execution_count": 14,
   "metadata": {},
   "outputs": [
    {
     "name": "stdout",
     "output_type": "stream",
     "text": [
      "Runtime Average : 0.002119433191961434\n",
      "Runtime STD     : 0.002691421676460226\n"
     ]
    }
   ],
   "source": [
    "# Set the number of runs.\n",
    "num_runs = 1000\n",
    "\n",
    "# Create an array to store the results.\n",
    "results = np.zeros(num_runs)\n",
    "\n",
    "# Time the \"monte_carlo_step\" function.\n",
    "for i in range(num_runs):\n",
    "    # Start the timer.\n",
    "    start = time.perf_counter()\n",
    "\n",
    "    # Call the function.\n",
    "    lebwohl_lasher_p_cython.monte_carlo_step(lattice, lattice_length, temperature)\n",
    "\n",
    "    # End the timer.\n",
    "    # Save the runtime.\n",
    "    end = time.perf_counter()\n",
    "    results[i] = end - start\n",
    "    \n",
    "# Print the average runtime.\n",
    "# Print the standard deviation.\n",
    "print(f\"Runtime Average : {results.mean()}\")\n",
    "print(f\"Runtime STD     : {results.std()}\")"
   ]
  },
  {
   "cell_type": "code",
   "execution_count": null,
   "metadata": {},
   "outputs": [],
   "source": []
  }
 ],
 "metadata": {
  "kernelspec": {
   "display_name": "lebwohl-lasher",
   "language": "python",
   "name": "python3"
  },
  "language_info": {
   "codemirror_mode": {
    "name": "ipython",
    "version": 3
   },
   "file_extension": ".py",
   "mimetype": "text/x-python",
   "name": "python",
   "nbconvert_exporter": "python",
   "pygments_lexer": "ipython3",
   "version": "3.12.2"
  }
 },
 "nbformat": 4,
 "nbformat_minor": 2
}
