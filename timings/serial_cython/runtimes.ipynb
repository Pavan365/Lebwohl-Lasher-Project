{
 "cells": [
  {
   "cell_type": "markdown",
   "metadata": {},
   "source": [
    "$\\textbf{Time Serial Cython Version}$"
   ]
  },
  {
   "cell_type": "markdown",
   "metadata": {},
   "source": [
    "$\\textbf{Files Used}$ \n",
    "\n",
    "+ ```root/serial_numba/lebwohl_lasher_s_cython.pyx```\n",
    "+ ```root/serial_numba/run_lebwohl_lasher_s_cython.py```\n",
    "+ ```root/serial_numba/setup_lebwohl_lasher_s_cython.py```\n",
    "\n",
    "$\\textbf{Commit Version}$\n",
    "\n",
    "+ ```lebwohl_lasher_s_cython.pyx - 4ac061c06f7749ef8438fb809b080b743c4094af```\n",
    "+ ```run_lebwohl_lasher_s_cython.py - c8be37f204a23e5482934ec4a729b0c58c9c9e5d```\n",
    "+ ```setup_lebwohl_lasher_s_cython.py - a483c7babd1bed483506d98443018aff8e5543b6```"
   ]
  },
  {
   "cell_type": "code",
   "execution_count": 1,
   "metadata": {},
   "outputs": [],
   "source": [
    "# Import required libraries.\n",
    "import matplotlib.pyplot as plt\n",
    "import numpy as np\n",
    "import pandas as pd\n",
    "import time\n",
    "\n",
    "# Import the script.\n",
    "import lebwohl_lasher_s_cython"
   ]
  },
  {
   "cell_type": "markdown",
   "metadata": {},
   "source": [
    "$\\textbf{1. BC4 Runtimes}$\n",
    "\n",
    "+ $\\text{Lattice Sizes: 25 - 1000}$\n",
    "\n",
    "- $\\text{Monte Carlo Steps: 50}$\n",
    "- $\\text{Reduced Temperature: 0.5}$\n",
    "\n",
    "\n",
    "+ ```python ../statistics.py bc4_runtimes serial_cython runtimes.csv```"
   ]
  },
  {
   "cell_type": "code",
   "execution_count": 2,
   "metadata": {},
   "outputs": [
    {
     "name": "stdout",
     "output_type": "stream",
     "text": [
      "|    |   Lattice-Size |   Runtime-Average |   Runtime-STD |\n",
      "|---:|---------------:|------------------:|--------------:|\n",
      "|  0 |             25 |         0.0206927 |   0.00034116  |\n",
      "|  1 |             50 |         0.0694898 |   0.000618342 |\n",
      "|  2 |             75 |         0.154204  |   0.000900193 |\n",
      "|  3 |            100 |         0.259142  |   0.00565899  |\n",
      "|  4 |            200 |         1.00172   |   0.00211342  |\n",
      "|  5 |            300 |         2.33649   |   0.00262238  |\n",
      "|  6 |            400 |         4.09989   |   0.0327307   |\n",
      "|  7 |            500 |         6.30884   |   0.0163757   |\n",
      "|  8 |            600 |         9.47075   |   0.121185    |\n",
      "|  9 |            700 |        12.0695    |   0.0134608   |\n",
      "| 10 |            800 |        15.8101    |   0.258808    |\n",
      "| 11 |            900 |        19.5439    |   0.028675    |\n",
      "| 12 |           1000 |        24.2487    |   0.0784558   |\n"
     ]
    }
   ],
   "source": [
    "# Read the runtimes into a DataFrame.\n",
    "runtimes = pd.read_csv(\"runtimes.csv\")\n",
    "\n",
    "# Print the DataFrame.\n",
    "print(runtimes.to_markdown())"
   ]
  },
  {
   "cell_type": "code",
   "execution_count": 3,
   "metadata": {},
   "outputs": [
    {
     "data": {
      "image/png": "[encoded data removed]",
      "text/plain": [
       "<Figure size 640x480 with 1 Axes>"
      ]
     },
     "metadata": {},
     "output_type": "display_data"
    }
   ],
   "source": [
    "##  Plot the runtimes.\n",
    "\n",
    "fig, ax = plt.subplots()\n",
    "\n",
    "ax.errorbar(runtimes[\"Lattice-Size\"], runtimes[\"Runtime-Average\"], runtimes[\"Runtime-STD\"], fmt=\".\")\n",
    "ax.grid()\n",
    "\n",
    "ax.set_title(\"Serial Cython Script\")\n",
    "ax.set_xlabel(\"Lattice Size\")\n",
    "ax.set_ylabel(\"Runtime (s)\")\n",
    "\n",
    "plt.show()"
   ]
  },
  {
   "cell_type": "markdown",
   "metadata": {},
   "source": [
    "$\\textbf{2. Time Specific Functions}$"
   ]
  },
  {
   "cell_type": "code",
   "execution_count": 4,
   "metadata": {},
   "outputs": [],
   "source": [
    "# Generate a lattice.\n",
    "lattice_length = 100\n",
    "lattice = np.random.random_sample((lattice_length, lattice_length)) * 2.0 * np.pi\n",
    "\n",
    "# Define the temperature.\n",
    "temperature = 0.5"
   ]
  },
  {
   "cell_type": "markdown",
   "metadata": {},
   "source": [
    "$\\textbf{2.1 Timed Function:}$ ```cell_energy```"
   ]
  },
  {
   "cell_type": "code",
   "execution_count": 5,
   "metadata": {},
   "outputs": [
    {
     "name": "stdout",
     "output_type": "stream",
     "text": [
      "Runtime Average : 1.915916987854871e-06\n",
      "Runtime STD     : 3.131512203808506e-06\n"
     ]
    }
   ],
   "source": [
    "# Set the number of runs.\n",
    "num_runs = 1000\n",
    "\n",
    "# Create an array to store the results.\n",
    "results = np.zeros(num_runs)\n",
    "\n",
    "# Time the \"cell_energy\" function.\n",
    "for i in range(num_runs):\n",
    "    # Generate two random positions.\n",
    "    x_pos, y_pos = np.random.randint(0, high=lattice_length, size=2)\n",
    "\n",
    "    # Start the timer.\n",
    "    start = time.perf_counter()\n",
    "\n",
    "    # Call the function.\n",
    "    lebwohl_lasher_s_cython.cell_energy(lattice, lattice_length, x_pos, y_pos)\n",
    "\n",
    "    # End the timer.\n",
    "    # Save the runtime.\n",
    "    end = time.perf_counter()\n",
    "    results[i] = end - start\n",
    "    \n",
    "# Print the average runtime.\n",
    "# Print the standard deviation.\n",
    "print(f\"Runtime Average : {results.mean()}\")\n",
    "print(f\"Runtime STD     : {results.std()}\")"
   ]
  },
  {
   "cell_type": "markdown",
   "metadata": {},
   "source": [
    "$\\textbf{2.2 Timed Function:}$ ```total_energy```"
   ]
  },
  {
   "cell_type": "code",
   "execution_count": 6,
   "metadata": {},
   "outputs": [
    {
     "name": "stdout",
     "output_type": "stream",
     "text": [
      "Runtime Average : 0.0008198578059982537\n",
      "Runtime STD     : 0.00016368200516991035\n"
     ]
    }
   ],
   "source": [
    "# Set the number of runs.\n",
    "num_runs = 1000\n",
    "\n",
    "# Create an array to store the results.\n",
    "results = np.zeros(num_runs)\n",
    "\n",
    "# Time the \"total_energy\" function.\n",
    "for i in range(num_runs):\n",
    "    # Start the timer.\n",
    "    start = time.perf_counter()\n",
    "\n",
    "    # Call the function.\n",
    "    lebwohl_lasher_s_cython.total_energy(lattice, lattice_length)\n",
    "\n",
    "    # End the timer.\n",
    "    # Save the runtime.\n",
    "    end = time.perf_counter()\n",
    "    results[i] = end - start\n",
    "    \n",
    "# Print the average runtime.\n",
    "# Print the standard deviation.\n",
    "print(f\"Runtime Average : {results.mean()}\")\n",
    "print(f\"Runtime STD     : {results.std()}\")"
   ]
  },
  {
   "cell_type": "markdown",
   "metadata": {},
   "source": [
    "$\\textbf{2.3 Timed Function:}$ ```calculate_order```"
   ]
  },
  {
   "cell_type": "code",
   "execution_count": 7,
   "metadata": {},
   "outputs": [
    {
     "name": "stdout",
     "output_type": "stream",
     "text": [
      "Runtime Average : 0.00028671678403225086\n",
      "Runtime STD     : 0.00010355555799428344\n"
     ]
    }
   ],
   "source": [
    "# Set the number of runs.\n",
    "num_runs = 1000\n",
    "\n",
    "# Create an array to store the results.\n",
    "results = np.zeros(num_runs)\n",
    "\n",
    "# Time the \"calculate_order\" function.\n",
    "for i in range(num_runs):\n",
    "    # Start the timer.\n",
    "    start = time.perf_counter()\n",
    "\n",
    "    # Call the function.\n",
    "    lebwohl_lasher_s_cython.calculate_order(lattice, lattice_length)\n",
    "\n",
    "    # End the timer.\n",
    "    # Save the runtime.\n",
    "    end = time.perf_counter()\n",
    "    results[i] = end - start\n",
    "    \n",
    "# Print the average runtime.\n",
    "# Print the standard deviation.\n",
    "print(f\"Runtime Average : {results.mean()}\")\n",
    "print(f\"Runtime STD     : {results.std()}\")"
   ]
  },
  {
   "cell_type": "markdown",
   "metadata": {},
   "source": [
    "$\\textbf{2.4 Timed Function:}$ ```monte_carlo_step```"
   ]
  },
  {
   "cell_type": "code",
   "execution_count": 8,
   "metadata": {},
   "outputs": [
    {
     "name": "stdout",
     "output_type": "stream",
     "text": [
      "Runtime Average : 0.002200204043989288\n",
      "Runtime STD     : 0.0004339828673567986\n"
     ]
    }
   ],
   "source": [
    "# Set the number of runs.\n",
    "num_runs = 1000\n",
    "\n",
    "# Create an array to store the results.\n",
    "results = np.zeros(num_runs)\n",
    "\n",
    "# Time the \"monte_carlo_step\" function.\n",
    "for i in range(num_runs):\n",
    "    # Start the timer.\n",
    "    start = time.perf_counter()\n",
    "\n",
    "    # Call the function.\n",
    "    lebwohl_lasher_s_cython.monte_carlo_step(lattice, lattice_length, temperature)\n",
    "\n",
    "    # End the timer.\n",
    "    # Save the runtime.\n",
    "    end = time.perf_counter()\n",
    "    results[i] = end - start\n",
    "    \n",
    "# Print the average runtime.\n",
    "# Print the standard deviation.\n",
    "print(f\"Runtime Average : {results.mean()}\")\n",
    "print(f\"Runtime STD     : {results.std()}\")"
   ]
  },
  {
   "cell_type": "code",
   "execution_count": null,
   "metadata": {},
   "outputs": [],
   "source": []
  }
 ],
 "metadata": {
  "kernelspec": {
   "display_name": "lebwohl-lasher",
   "language": "python",
   "name": "python3"
  },
  "language_info": {
   "codemirror_mode": {
    "name": "ipython",
    "version": 3
   },
   "file_extension": ".py",
   "mimetype": "text/x-python",
   "name": "python",
   "nbconvert_exporter": "python",
   "pygments_lexer": "ipython3",
   "version": "3.12.2"
  }
 },
 "nbformat": 4,
 "nbformat_minor": 2
}
