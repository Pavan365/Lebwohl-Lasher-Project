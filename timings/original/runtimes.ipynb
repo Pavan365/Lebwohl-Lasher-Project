{
 "cells": [
  {
   "cell_type": "markdown",
   "metadata": {},
   "source": [
    "$\\textbf{Time Original Version}$"
   ]
  },
  {
   "cell_type": "markdown",
   "metadata": {},
   "source": [
    "$\\textbf{Files Used}$ \n",
    "\n",
    "+ ```root/original/lebwohl_lasher.py```\n",
    "\n",
    "$\\textbf{Commit Version}$\n",
    "\n",
    "+ ```lebwohl_lasher.py - 58aad3c44468332c6ea486a04beb298c1c7f219d```"
   ]
  },
  {
   "cell_type": "code",
   "execution_count": 1,
   "metadata": {},
   "outputs": [],
   "source": [
    "# Import required libraries.\n",
    "import matplotlib.pyplot as plt\n",
    "import numpy as np\n",
    "import pandas as pd\n",
    "import time\n",
    "\n",
    "# Import the script.\n",
    "import lebwohl_lasher"
   ]
  },
  {
   "cell_type": "markdown",
   "metadata": {},
   "source": [
    "$\\textbf{1. BC4 Runtimes}$\n",
    "\n",
    "+ $\\text{Lattice Sizes: 25 - 200}$\n",
    "\n",
    "- $\\text{Monte Carlo Steps: 50}$\n",
    "- $\\text{Reduced Temperature: 0.5}$\n",
    "\n",
    "\n",
    "+ ```python ../statistics.py bc4_runtimes original runtimes.csv```"
   ]
  },
  {
   "cell_type": "code",
   "execution_count": 2,
   "metadata": {},
   "outputs": [
    {
     "name": "stdout",
     "output_type": "stream",
     "text": [
      "|    |   Lattice-Size |   Runtime-Average |   Runtime-STD |\n",
      "|---:|---------------:|------------------:|--------------:|\n",
      "|  0 |             25 |          0.883892 |    0.00928874 |\n",
      "|  1 |             50 |          3.61538  |    0.13985    |\n",
      "|  2 |             75 |          8.13834  |    0.216574   |\n",
      "|  3 |            100 |         14.3825   |    0.287043   |\n",
      "|  4 |            150 |         32.7938   |    1.45434    |\n",
      "|  5 |            200 |         57.7896   |    1.52274    |\n"
     ]
    }
   ],
   "source": [
    "# Read the runtimes into a DataFrame.\n",
    "runtimes = pd.read_csv(\"runtimes.csv\")\n",
    "\n",
    "# Print the DataFrame.\n",
    "print(runtimes.to_markdown())"
   ]
  },
  {
   "cell_type": "code",
   "execution_count": 3,
   "metadata": {},
   "outputs": [
    {
     "data": {
      "image/png": "[encoded data removed]",
      "text/plain": [
       "<Figure size 640x480 with 1 Axes>"
      ]
     },
     "metadata": {},
     "output_type": "display_data"
    }
   ],
   "source": [
    "##  Plot the runtimes.\n",
    "\n",
    "fig, ax = plt.subplots()\n",
    "\n",
    "ax.errorbar(runtimes[\"Lattice-Size\"], runtimes[\"Runtime-Average\"], runtimes[\"Runtime-STD\"], fmt=\".\")\n",
    "ax.grid()\n",
    "\n",
    "ax.set_title(\"Original Script\")\n",
    "ax.set_xlabel(\"Lattice Size\")\n",
    "ax.set_ylabel(\"Runtime (s)\")\n",
    "\n",
    "plt.show()"
   ]
  },
  {
   "cell_type": "markdown",
   "metadata": {},
   "source": [
    "$\\textbf{2. Time Specific Functions}$"
   ]
  },
  {
   "cell_type": "code",
   "execution_count": 4,
   "metadata": {},
   "outputs": [],
   "source": [
    "# Generate a lattice.\n",
    "lattice_length = 100\n",
    "lattice = np.random.random_sample((lattice_length, lattice_length)) * 2.0 * np.pi\n",
    "\n",
    "# Define the temperature.\n",
    "temperature = 0.5"
   ]
  },
  {
   "cell_type": "markdown",
   "metadata": {},
   "source": [
    "$\\textbf{2.1 Timed Function:}$ ```cell_energy```"
   ]
  },
  {
   "cell_type": "code",
   "execution_count": 5,
   "metadata": {},
   "outputs": [
    {
     "name": "stdout",
     "output_type": "stream",
     "text": [
      "Runtime Average : 1.0354345025916701e-05\n",
      "Runtime STD     : 7.902323539235526e-06\n"
     ]
    }
   ],
   "source": [
    "# Set the number of runs.\n",
    "num_runs = 1000\n",
    "\n",
    "# Create an array to store the results.\n",
    "results = np.zeros(num_runs)\n",
    "\n",
    "# Time the \"cell_energy\" function.\n",
    "for i in range(num_runs):\n",
    "    # Generate two random positions.\n",
    "    x_pos, y_pos = np.random.randint(0, high=lattice_length, size=2)\n",
    "\n",
    "    # Start the timer.\n",
    "    start = time.perf_counter()\n",
    "\n",
    "    # Call the function.\n",
    "    lebwohl_lasher.cell_energy(lattice, lattice_length, x_pos, y_pos)\n",
    "\n",
    "    # End the timer.\n",
    "    # Save the runtime.\n",
    "    end = time.perf_counter()\n",
    "    results[i] = end - start\n",
    "    \n",
    "# Print the average runtime.\n",
    "# Print the standard deviation.\n",
    "print(f\"Runtime Average : {results.mean()}\")\n",
    "print(f\"Runtime STD     : {results.std()}\")"
   ]
  },
  {
   "cell_type": "markdown",
   "metadata": {},
   "source": [
    "$\\textbf{2.2 Timed Function:}$ ```total_energy```"
   ]
  },
  {
   "cell_type": "code",
   "execution_count": 6,
   "metadata": {},
   "outputs": [
    {
     "name": "stdout",
     "output_type": "stream",
     "text": [
      "Runtime Average : 0.05611962034399585\n",
      "Runtime STD     : 0.0037946126555285435\n"
     ]
    }
   ],
   "source": [
    "# Set the number of runs.\n",
    "num_runs = 1000\n",
    "\n",
    "# Create an array to store the results.\n",
    "results = np.zeros(num_runs)\n",
    "\n",
    "# Time the \"total_energy\" function.\n",
    "for i in range(num_runs):\n",
    "    # Start the timer.\n",
    "    start = time.perf_counter()\n",
    "\n",
    "    # Call the function.\n",
    "    lebwohl_lasher.total_energy(lattice, lattice_length)\n",
    "\n",
    "    # End the timer.\n",
    "    # Save the runtime.\n",
    "    end = time.perf_counter()\n",
    "    results[i] = end - start\n",
    "    \n",
    "# Print the average runtime.\n",
    "# Print the standard deviation.\n",
    "print(f\"Runtime Average : {results.mean()}\")\n",
    "print(f\"Runtime STD     : {results.std()}\")"
   ]
  },
  {
   "cell_type": "markdown",
   "metadata": {},
   "source": [
    "$\\textbf{2.3 Timed Function:}$ ```calculate_order```"
   ]
  },
  {
   "cell_type": "code",
   "execution_count": 7,
   "metadata": {},
   "outputs": [
    {
     "name": "stdout",
     "output_type": "stream",
     "text": [
      "Runtime Average : 0.053857423100020244\n",
      "Runtime STD     : 0.0034401893453468104\n"
     ]
    }
   ],
   "source": [
    "# Set the number of runs.\n",
    "num_runs = 1000\n",
    "\n",
    "# Create an array to store the results.\n",
    "results = np.zeros(num_runs)\n",
    "\n",
    "# Time the \"calculate_order\" function.\n",
    "for i in range(num_runs):\n",
    "    # Start the timer.\n",
    "    start = time.perf_counter()\n",
    "\n",
    "    # Call the function.\n",
    "    lebwohl_lasher.calculate_order(lattice, lattice_length)\n",
    "\n",
    "    # End the timer.\n",
    "    # Save the runtime.\n",
    "    end = time.perf_counter()\n",
    "    results[i] = end - start\n",
    "    \n",
    "# Print the average runtime.\n",
    "# Print the standard deviation.\n",
    "print(f\"Runtime Average : {results.mean()}\")\n",
    "print(f\"Runtime STD     : {results.std()}\")"
   ]
  },
  {
   "cell_type": "markdown",
   "metadata": {},
   "source": [
    "$\\textbf{2.4 Timed Function:}$ ```monte_carlo_step```"
   ]
  },
  {
   "cell_type": "code",
   "execution_count": 8,
   "metadata": {},
   "outputs": [
    {
     "name": "stdout",
     "output_type": "stream",
     "text": [
      "Runtime Average : 0.18652687280504687\n",
      "Runtime STD     : 0.0711188291661308\n"
     ]
    }
   ],
   "source": [
    "# Set the number of runs.\n",
    "num_runs = 1000\n",
    "\n",
    "# Create an array to store the results.\n",
    "results = np.zeros(num_runs)\n",
    "\n",
    "# Time the \"monte_carlo_step\" function.\n",
    "for i in range(num_runs):\n",
    "    # Start the timer.\n",
    "    start = time.perf_counter()\n",
    "\n",
    "    # Call the function.\n",
    "    lebwohl_lasher.monte_carlo_step(lattice, lattice_length, temperature)\n",
    "\n",
    "    # End the timer.\n",
    "    # Save the runtime.\n",
    "    end = time.perf_counter()\n",
    "    results[i] = end - start\n",
    "    \n",
    "# Print the average runtime.\n",
    "# Print the standard deviation.\n",
    "print(f\"Runtime Average : {results.mean()}\")\n",
    "print(f\"Runtime STD     : {results.std()}\")"
   ]
  },
  {
   "cell_type": "code",
   "execution_count": null,
   "metadata": {},
   "outputs": [],
   "source": []
  }
 ],
 "metadata": {
  "kernelspec": {
   "display_name": "lebwohl-lasher",
   "language": "python",
   "name": "python3"
  },
  "language_info": {
   "codemirror_mode": {
    "name": "ipython",
    "version": 3
   },
   "file_extension": ".py",
   "mimetype": "text/x-python",
   "name": "python",
   "nbconvert_exporter": "python",
   "pygments_lexer": "ipython3",
   "version": "3.12.2"
  }
 },
 "nbformat": 4,
 "nbformat_minor": 2
}
